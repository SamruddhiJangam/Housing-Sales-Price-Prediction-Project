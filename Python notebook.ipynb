{
 "cells": [
  {
   "cell_type": "markdown",
   "id": "1dbad010",
   "metadata": {},
   "source": [
    "### Read Dataset"
   ]
  },
  {
   "cell_type": "code",
   "execution_count": 2,
   "id": "cf84d169",
   "metadata": {},
   "outputs": [
    {
     "data": {
      "text/html": [
       "<div>\n",
       "<style scoped>\n",
       "    .dataframe tbody tr th:only-of-type {\n",
       "        vertical-align: middle;\n",
       "    }\n",
       "\n",
       "    .dataframe tbody tr th {\n",
       "        vertical-align: top;\n",
       "    }\n",
       "\n",
       "    .dataframe thead th {\n",
       "        text-align: right;\n",
       "    }\n",
       "</style>\n",
       "<table border=\"1\" class=\"dataframe\">\n",
       "  <thead>\n",
       "    <tr style=\"text-align: right;\">\n",
       "      <th></th>\n",
       "      <th>Id</th>\n",
       "      <th>MSSubClass</th>\n",
       "      <th>MSZoning</th>\n",
       "      <th>LotFrontage</th>\n",
       "      <th>LotArea</th>\n",
       "      <th>Street</th>\n",
       "      <th>Alley</th>\n",
       "      <th>LotShape</th>\n",
       "      <th>LandContour</th>\n",
       "      <th>Utilities</th>\n",
       "      <th>...</th>\n",
       "      <th>PoolArea</th>\n",
       "      <th>PoolQC</th>\n",
       "      <th>Fence</th>\n",
       "      <th>MiscFeature</th>\n",
       "      <th>MiscVal</th>\n",
       "      <th>MoSold</th>\n",
       "      <th>YrSold</th>\n",
       "      <th>SaleType</th>\n",
       "      <th>SaleCondition</th>\n",
       "      <th>SalePrice</th>\n",
       "    </tr>\n",
       "  </thead>\n",
       "  <tbody>\n",
       "    <tr>\n",
       "      <th>0</th>\n",
       "      <td>1</td>\n",
       "      <td>60</td>\n",
       "      <td>RL</td>\n",
       "      <td>65.0</td>\n",
       "      <td>8450</td>\n",
       "      <td>Pave</td>\n",
       "      <td>NaN</td>\n",
       "      <td>Reg</td>\n",
       "      <td>Lvl</td>\n",
       "      <td>AllPub</td>\n",
       "      <td>...</td>\n",
       "      <td>0</td>\n",
       "      <td>NaN</td>\n",
       "      <td>NaN</td>\n",
       "      <td>NaN</td>\n",
       "      <td>0</td>\n",
       "      <td>2</td>\n",
       "      <td>2008</td>\n",
       "      <td>WD</td>\n",
       "      <td>Normal</td>\n",
       "      <td>208500</td>\n",
       "    </tr>\n",
       "    <tr>\n",
       "      <th>1</th>\n",
       "      <td>2</td>\n",
       "      <td>20</td>\n",
       "      <td>RL</td>\n",
       "      <td>80.0</td>\n",
       "      <td>9600</td>\n",
       "      <td>Pave</td>\n",
       "      <td>NaN</td>\n",
       "      <td>Reg</td>\n",
       "      <td>Lvl</td>\n",
       "      <td>AllPub</td>\n",
       "      <td>...</td>\n",
       "      <td>0</td>\n",
       "      <td>NaN</td>\n",
       "      <td>NaN</td>\n",
       "      <td>NaN</td>\n",
       "      <td>0</td>\n",
       "      <td>5</td>\n",
       "      <td>2007</td>\n",
       "      <td>WD</td>\n",
       "      <td>Normal</td>\n",
       "      <td>181500</td>\n",
       "    </tr>\n",
       "    <tr>\n",
       "      <th>2</th>\n",
       "      <td>3</td>\n",
       "      <td>60</td>\n",
       "      <td>RL</td>\n",
       "      <td>68.0</td>\n",
       "      <td>11250</td>\n",
       "      <td>Pave</td>\n",
       "      <td>NaN</td>\n",
       "      <td>IR1</td>\n",
       "      <td>Lvl</td>\n",
       "      <td>AllPub</td>\n",
       "      <td>...</td>\n",
       "      <td>0</td>\n",
       "      <td>NaN</td>\n",
       "      <td>NaN</td>\n",
       "      <td>NaN</td>\n",
       "      <td>0</td>\n",
       "      <td>9</td>\n",
       "      <td>2008</td>\n",
       "      <td>WD</td>\n",
       "      <td>Normal</td>\n",
       "      <td>223500</td>\n",
       "    </tr>\n",
       "    <tr>\n",
       "      <th>3</th>\n",
       "      <td>4</td>\n",
       "      <td>70</td>\n",
       "      <td>RL</td>\n",
       "      <td>60.0</td>\n",
       "      <td>9550</td>\n",
       "      <td>Pave</td>\n",
       "      <td>NaN</td>\n",
       "      <td>IR1</td>\n",
       "      <td>Lvl</td>\n",
       "      <td>AllPub</td>\n",
       "      <td>...</td>\n",
       "      <td>0</td>\n",
       "      <td>NaN</td>\n",
       "      <td>NaN</td>\n",
       "      <td>NaN</td>\n",
       "      <td>0</td>\n",
       "      <td>2</td>\n",
       "      <td>2006</td>\n",
       "      <td>WD</td>\n",
       "      <td>Abnorml</td>\n",
       "      <td>140000</td>\n",
       "    </tr>\n",
       "    <tr>\n",
       "      <th>4</th>\n",
       "      <td>5</td>\n",
       "      <td>60</td>\n",
       "      <td>RL</td>\n",
       "      <td>84.0</td>\n",
       "      <td>14260</td>\n",
       "      <td>Pave</td>\n",
       "      <td>NaN</td>\n",
       "      <td>IR1</td>\n",
       "      <td>Lvl</td>\n",
       "      <td>AllPub</td>\n",
       "      <td>...</td>\n",
       "      <td>0</td>\n",
       "      <td>NaN</td>\n",
       "      <td>NaN</td>\n",
       "      <td>NaN</td>\n",
       "      <td>0</td>\n",
       "      <td>12</td>\n",
       "      <td>2008</td>\n",
       "      <td>WD</td>\n",
       "      <td>Normal</td>\n",
       "      <td>250000</td>\n",
       "    </tr>\n",
       "  </tbody>\n",
       "</table>\n",
       "<p>5 rows × 81 columns</p>\n",
       "</div>"
      ],
      "text/plain": [
       "   Id  MSSubClass MSZoning  LotFrontage  LotArea Street Alley LotShape  \\\n",
       "0   1          60       RL         65.0     8450   Pave   NaN      Reg   \n",
       "1   2          20       RL         80.0     9600   Pave   NaN      Reg   \n",
       "2   3          60       RL         68.0    11250   Pave   NaN      IR1   \n",
       "3   4          70       RL         60.0     9550   Pave   NaN      IR1   \n",
       "4   5          60       RL         84.0    14260   Pave   NaN      IR1   \n",
       "\n",
       "  LandContour Utilities  ... PoolArea PoolQC Fence MiscFeature MiscVal MoSold  \\\n",
       "0         Lvl    AllPub  ...        0    NaN   NaN         NaN       0      2   \n",
       "1         Lvl    AllPub  ...        0    NaN   NaN         NaN       0      5   \n",
       "2         Lvl    AllPub  ...        0    NaN   NaN         NaN       0      9   \n",
       "3         Lvl    AllPub  ...        0    NaN   NaN         NaN       0      2   \n",
       "4         Lvl    AllPub  ...        0    NaN   NaN         NaN       0     12   \n",
       "\n",
       "  YrSold  SaleType  SaleCondition  SalePrice  \n",
       "0   2008        WD         Normal     208500  \n",
       "1   2007        WD         Normal     181500  \n",
       "2   2008        WD         Normal     223500  \n",
       "3   2006        WD        Abnorml     140000  \n",
       "4   2008        WD         Normal     250000  \n",
       "\n",
       "[5 rows x 81 columns]"
      ]
     },
     "execution_count": 2,
     "metadata": {},
     "output_type": "execute_result"
    }
   ],
   "source": [
    "import pandas as pd\n",
    "\n",
    "train = pd.read_csv(\"C:/Users/HP/Desktop/ETLHive/Project1/training_set - training_set.csv\")\n",
    "test = pd.read_csv(\"C:/Users/HP/Desktop/ETLHive/Project1/testing_set - testing_set.csv\")\n",
    "train.head()"
   ]
  },
  {
   "cell_type": "markdown",
   "id": "1e39cef5",
   "metadata": {},
   "source": [
    "### Missing data treatment "
   ]
  },
  {
   "cell_type": "code",
   "execution_count": 3,
   "id": "0c517b97",
   "metadata": {},
   "outputs": [
    {
     "name": "stdout",
     "output_type": "stream",
     "text": [
      "<class 'pandas.core.frame.DataFrame'>\n",
      "RangeIndex: 1460 entries, 0 to 1459\n",
      "Data columns (total 81 columns):\n",
      " #   Column         Non-Null Count  Dtype  \n",
      "---  ------         --------------  -----  \n",
      " 0   Id             1460 non-null   int64  \n",
      " 1   MSSubClass     1460 non-null   int64  \n",
      " 2   MSZoning       1460 non-null   object \n",
      " 3   LotFrontage    1201 non-null   float64\n",
      " 4   LotArea        1460 non-null   int64  \n",
      " 5   Street         1460 non-null   object \n",
      " 6   Alley          91 non-null     object \n",
      " 7   LotShape       1460 non-null   object \n",
      " 8   LandContour    1460 non-null   object \n",
      " 9   Utilities      1460 non-null   object \n",
      " 10  LotConfig      1460 non-null   object \n",
      " 11  LandSlope      1460 non-null   object \n",
      " 12  Neighborhood   1460 non-null   object \n",
      " 13  Condition1     1460 non-null   object \n",
      " 14  Condition2     1460 non-null   object \n",
      " 15  BldgType       1460 non-null   object \n",
      " 16  HouseStyle     1460 non-null   object \n",
      " 17  OverallQual    1460 non-null   int64  \n",
      " 18  OverallCond    1460 non-null   int64  \n",
      " 19  YearBuilt      1460 non-null   int64  \n",
      " 20  YearRemodAdd   1460 non-null   int64  \n",
      " 21  RoofStyle      1460 non-null   object \n",
      " 22  RoofMatl       1460 non-null   object \n",
      " 23  Exterior1st    1460 non-null   object \n",
      " 24  Exterior2nd    1460 non-null   object \n",
      " 25  MasVnrType     1452 non-null   object \n",
      " 26  MasVnrArea     1452 non-null   float64\n",
      " 27  ExterQual      1460 non-null   object \n",
      " 28  ExterCond      1460 non-null   object \n",
      " 29  Foundation     1460 non-null   object \n",
      " 30  BsmtQual       1423 non-null   object \n",
      " 31  BsmtCond       1423 non-null   object \n",
      " 32  BsmtExposure   1422 non-null   object \n",
      " 33  BsmtFinType1   1423 non-null   object \n",
      " 34  BsmtFinSF1     1460 non-null   int64  \n",
      " 35  BsmtFinType2   1422 non-null   object \n",
      " 36  BsmtFinSF2     1460 non-null   int64  \n",
      " 37  BsmtUnfSF      1460 non-null   int64  \n",
      " 38  TotalBsmtSF    1460 non-null   int64  \n",
      " 39  Heating        1460 non-null   object \n",
      " 40  HeatingQC      1460 non-null   object \n",
      " 41  CentralAir     1460 non-null   object \n",
      " 42  Electrical     1459 non-null   object \n",
      " 43  1stFlrSF       1460 non-null   int64  \n",
      " 44  2ndFlrSF       1460 non-null   int64  \n",
      " 45  LowQualFinSF   1460 non-null   int64  \n",
      " 46  GrLivArea      1460 non-null   int64  \n",
      " 47  BsmtFullBath   1460 non-null   int64  \n",
      " 48  BsmtHalfBath   1460 non-null   int64  \n",
      " 49  FullBath       1460 non-null   int64  \n",
      " 50  HalfBath       1460 non-null   int64  \n",
      " 51  BedroomAbvGr   1460 non-null   int64  \n",
      " 52  KitchenAbvGr   1460 non-null   int64  \n",
      " 53  KitchenQual    1460 non-null   object \n",
      " 54  TotRmsAbvGrd   1460 non-null   int64  \n",
      " 55  Functional     1460 non-null   object \n",
      " 56  Fireplaces     1460 non-null   int64  \n",
      " 57  FireplaceQu    770 non-null    object \n",
      " 58  GarageType     1379 non-null   object \n",
      " 59  GarageYrBlt    1379 non-null   float64\n",
      " 60  GarageFinish   1379 non-null   object \n",
      " 61  GarageCars     1460 non-null   int64  \n",
      " 62  GarageArea     1460 non-null   int64  \n",
      " 63  GarageQual     1379 non-null   object \n",
      " 64  GarageCond     1379 non-null   object \n",
      " 65  PavedDrive     1460 non-null   object \n",
      " 66  WoodDeckSF     1460 non-null   int64  \n",
      " 67  OpenPorchSF    1460 non-null   int64  \n",
      " 68  EnclosedPorch  1460 non-null   int64  \n",
      " 69  3SsnPorch      1460 non-null   int64  \n",
      " 70  ScreenPorch    1460 non-null   int64  \n",
      " 71  PoolArea       1460 non-null   int64  \n",
      " 72  PoolQC         7 non-null      object \n",
      " 73  Fence          281 non-null    object \n",
      " 74  MiscFeature    54 non-null     object \n",
      " 75  MiscVal        1460 non-null   int64  \n",
      " 76  MoSold         1460 non-null   int64  \n",
      " 77  YrSold         1460 non-null   int64  \n",
      " 78  SaleType       1460 non-null   object \n",
      " 79  SaleCondition  1460 non-null   object \n",
      " 80  SalePrice      1460 non-null   int64  \n",
      "dtypes: float64(3), int64(35), object(43)\n",
      "memory usage: 924.0+ KB\n"
     ]
    }
   ],
   "source": [
    "train.info()"
   ]
  },
  {
   "cell_type": "code",
   "execution_count": 4,
   "id": "0a2b1941",
   "metadata": {},
   "outputs": [
    {
     "name": "stdout",
     "output_type": "stream",
     "text": [
      "<class 'pandas.core.frame.DataFrame'>\n",
      "RangeIndex: 1459 entries, 0 to 1458\n",
      "Data columns (total 80 columns):\n",
      " #   Column         Non-Null Count  Dtype  \n",
      "---  ------         --------------  -----  \n",
      " 0   Id             1459 non-null   int64  \n",
      " 1   MSSubClass     1459 non-null   int64  \n",
      " 2   MSZoning       1455 non-null   object \n",
      " 3   LotFrontage    1232 non-null   float64\n",
      " 4   LotArea        1459 non-null   int64  \n",
      " 5   Street         1459 non-null   object \n",
      " 6   Alley          107 non-null    object \n",
      " 7   LotShape       1459 non-null   object \n",
      " 8   LandContour    1459 non-null   object \n",
      " 9   Utilities      1457 non-null   object \n",
      " 10  LotConfig      1459 non-null   object \n",
      " 11  LandSlope      1459 non-null   object \n",
      " 12  Neighborhood   1459 non-null   object \n",
      " 13  Condition1     1459 non-null   object \n",
      " 14  Condition2     1459 non-null   object \n",
      " 15  BldgType       1459 non-null   object \n",
      " 16  HouseStyle     1459 non-null   object \n",
      " 17  OverallQual    1459 non-null   int64  \n",
      " 18  OverallCond    1459 non-null   int64  \n",
      " 19  YearBuilt      1459 non-null   int64  \n",
      " 20  YearRemodAdd   1459 non-null   int64  \n",
      " 21  RoofStyle      1459 non-null   object \n",
      " 22  RoofMatl       1459 non-null   object \n",
      " 23  Exterior1st    1458 non-null   object \n",
      " 24  Exterior2nd    1458 non-null   object \n",
      " 25  MasVnrType     1443 non-null   object \n",
      " 26  MasVnrArea     1444 non-null   float64\n",
      " 27  ExterQual      1459 non-null   object \n",
      " 28  ExterCond      1459 non-null   object \n",
      " 29  Foundation     1459 non-null   object \n",
      " 30  BsmtQual       1415 non-null   object \n",
      " 31  BsmtCond       1414 non-null   object \n",
      " 32  BsmtExposure   1415 non-null   object \n",
      " 33  BsmtFinType1   1417 non-null   object \n",
      " 34  BsmtFinSF1     1458 non-null   float64\n",
      " 35  BsmtFinType2   1417 non-null   object \n",
      " 36  BsmtFinSF2     1458 non-null   float64\n",
      " 37  BsmtUnfSF      1458 non-null   float64\n",
      " 38  TotalBsmtSF    1458 non-null   float64\n",
      " 39  Heating        1459 non-null   object \n",
      " 40  HeatingQC      1459 non-null   object \n",
      " 41  CentralAir     1459 non-null   object \n",
      " 42  Electrical     1459 non-null   object \n",
      " 43  1stFlrSF       1459 non-null   int64  \n",
      " 44  2ndFlrSF       1459 non-null   int64  \n",
      " 45  LowQualFinSF   1459 non-null   int64  \n",
      " 46  GrLivArea      1459 non-null   int64  \n",
      " 47  BsmtFullBath   1457 non-null   float64\n",
      " 48  BsmtHalfBath   1457 non-null   float64\n",
      " 49  FullBath       1459 non-null   int64  \n",
      " 50  HalfBath       1459 non-null   int64  \n",
      " 51  BedroomAbvGr   1459 non-null   int64  \n",
      " 52  KitchenAbvGr   1459 non-null   int64  \n",
      " 53  KitchenQual    1458 non-null   object \n",
      " 54  TotRmsAbvGrd   1459 non-null   int64  \n",
      " 55  Functional     1457 non-null   object \n",
      " 56  Fireplaces     1459 non-null   int64  \n",
      " 57  FireplaceQu    729 non-null    object \n",
      " 58  GarageType     1383 non-null   object \n",
      " 59  GarageYrBlt    1381 non-null   float64\n",
      " 60  GarageFinish   1381 non-null   object \n",
      " 61  GarageCars     1458 non-null   float64\n",
      " 62  GarageArea     1458 non-null   float64\n",
      " 63  GarageQual     1381 non-null   object \n",
      " 64  GarageCond     1381 non-null   object \n",
      " 65  PavedDrive     1459 non-null   object \n",
      " 66  WoodDeckSF     1459 non-null   int64  \n",
      " 67  OpenPorchSF    1459 non-null   int64  \n",
      " 68  EnclosedPorch  1459 non-null   int64  \n",
      " 69  3SsnPorch      1459 non-null   int64  \n",
      " 70  ScreenPorch    1459 non-null   int64  \n",
      " 71  PoolArea       1459 non-null   int64  \n",
      " 72  PoolQC         3 non-null      object \n",
      " 73  Fence          290 non-null    object \n",
      " 74  MiscFeature    51 non-null     object \n",
      " 75  MiscVal        1459 non-null   int64  \n",
      " 76  MoSold         1459 non-null   int64  \n",
      " 77  YrSold         1459 non-null   int64  \n",
      " 78  SaleType       1458 non-null   object \n",
      " 79  SaleCondition  1459 non-null   object \n",
      "dtypes: float64(11), int64(26), object(43)\n",
      "memory usage: 912.0+ KB\n"
     ]
    }
   ],
   "source": [
    "test.info()"
   ]
  },
  {
   "cell_type": "code",
   "execution_count": 5,
   "id": "de4ba785",
   "metadata": {},
   "outputs": [],
   "source": [
    "train.Alley = train.Alley.fillna(\"No alley access\")\n",
    "train.BsmtQual = train.BsmtQual.fillna(\"No Basement\")\n",
    "train.BsmtCond = train.BsmtCond.fillna(\"No Basement\")\n",
    "train.BsmtExposure = train.BsmtExposure.fillna(\"No Basement\")\n",
    "train.BsmtFinType1 = train.BsmtFinType1.fillna(\"No Basement\")\n",
    "train.BsmtFinType2 = train.BsmtFinType2.fillna(\"No Basement\")\n",
    "train.FireplaceQu = train.FireplaceQu.fillna(\"No Fireplace\")\n",
    "train.GarageType = train.GarageType.fillna(\"No Garage\")\n",
    "train.GarageFinish = train.GarageFinish.fillna(\"No Garage\")\n",
    "train.GarageQual = train.GarageQual.fillna(\"No Garage\")\n",
    "train.GarageCond = train.GarageCond.fillna(\"No Garage\")\n",
    "train.PoolQC = train.PoolQC.fillna(\"No Pool\")\n",
    "train.Fence = train.Fence.fillna(\"No Fence\")\n",
    "train.MiscFeature = train.MiscFeature.fillna(\"None\")"
   ]
  },
  {
   "cell_type": "code",
   "execution_count": 6,
   "id": "3054ed0d",
   "metadata": {},
   "outputs": [],
   "source": [
    "test.Alley = test.Alley.fillna(\"No alley access\")\n",
    "test.BsmtQual = test.BsmtQual.fillna(\"No Basement\")\n",
    "test.BsmtCond = test.BsmtCond.fillna(\"No Basement\")\n",
    "test.BsmtExposure = test.BsmtExposure.fillna(\"No Basement\")\n",
    "test.BsmtFinType1 = test.BsmtFinType1.fillna(\"No Basement\")\n",
    "test.BsmtFinType2 = test.BsmtFinType2.fillna(\"No Basement\")\n",
    "test.FireplaceQu = test.FireplaceQu.fillna(\"No Fireplace\")\n",
    "test.GarageType = test.GarageType.fillna(\"No Garage\")\n",
    "test.GarageFinish = test.GarageFinish.fillna(\"No Garage\")\n",
    "test.GarageQual = test.GarageQual.fillna(\"No Garage\")\n",
    "test.GarageCond = test.GarageCond.fillna(\"No Garage\")\n",
    "test.PoolQC = test.PoolQC.fillna(\"No Pool\")\n",
    "test.Fence = test.Fence.fillna(\"No Fence\")\n",
    "test.MiscFeature = test.MiscFeature.fillna(\"None\")"
   ]
  },
  {
   "cell_type": "code",
   "execution_count": 7,
   "id": "4ac44907",
   "metadata": {},
   "outputs": [],
   "source": [
    "#train.info()\n",
    "#test.info()"
   ]
  },
  {
   "cell_type": "code",
   "execution_count": 8,
   "id": "ca2afd80",
   "metadata": {},
   "outputs": [],
   "source": [
    "def catconsep(df):\n",
    "    con = []\n",
    "    cat = []\n",
    "    for i in df.columns:\n",
    "        if(df[i].dtypes==\"object\"):\n",
    "            cat.append(i)\n",
    "        else:\n",
    "            con.append(i)\n",
    "    return cat,con\n",
    "\n",
    "def replacer(df):\n",
    "    cat,con = catconsep(df)\n",
    "    for i in con:\n",
    "        df[i]=df[i].fillna(df[i].mean())\n",
    "    for i in cat:\n",
    "        df[i]=df[i].fillna(df[i].mode()[0])\n",
    "        \n",
    "def standardize(df):\n",
    "    cat,con = catconsep(df)\n",
    "    from sklearn.preprocessing import StandardScaler\n",
    "    ss = StandardScaler()\n",
    "    X1 = pd.DataFrame(ss.fit_transform(df[con]),columns=con)\n",
    "    return X1\n",
    "\n",
    "def outliers(df):\n",
    "    con = []\n",
    "    for i in df.columns:\n",
    "        if(df[i].dtypes!=\"object\"):\n",
    "            con.append(i)\n",
    "    outliers = []\n",
    "    for i in con:\n",
    "        outliers.extend(df[df[i]<-3].index)\n",
    "        outliers.extend(df[df[i]>3].index)\n",
    "    from numpy import unique\n",
    "    return list(unique(outliers))\n",
    "\n",
    "def preprocessing(df):\n",
    "    cat,con = catconsep(df)\n",
    "    X1 = standardize(df)\n",
    "    X2 = pd.get_dummies(df[cat])\n",
    "    Xnew = X1.join(X2)\n",
    "    return Xnew"
   ]
  },
  {
   "cell_type": "code",
   "execution_count": 9,
   "id": "f6e110d6",
   "metadata": {},
   "outputs": [],
   "source": [
    "replacer(train)\n",
    "replacer(test)"
   ]
  },
  {
   "cell_type": "markdown",
   "id": "0433b1fe",
   "metadata": {},
   "source": [
    "### EDA"
   ]
  },
  {
   "cell_type": "code",
   "execution_count": 10,
   "id": "a11be14d",
   "metadata": {},
   "outputs": [
    {
     "data": {
      "text/plain": [
       "(['MSZoning',\n",
       "  'Street',\n",
       "  'Alley',\n",
       "  'LotShape',\n",
       "  'LandContour',\n",
       "  'Utilities',\n",
       "  'LotConfig',\n",
       "  'LandSlope',\n",
       "  'Neighborhood',\n",
       "  'Condition1',\n",
       "  'Condition2',\n",
       "  'BldgType',\n",
       "  'HouseStyle',\n",
       "  'RoofStyle',\n",
       "  'RoofMatl',\n",
       "  'Exterior1st',\n",
       "  'Exterior2nd',\n",
       "  'MasVnrType',\n",
       "  'ExterQual',\n",
       "  'ExterCond',\n",
       "  'Foundation',\n",
       "  'BsmtQual',\n",
       "  'BsmtCond',\n",
       "  'BsmtExposure',\n",
       "  'BsmtFinType1',\n",
       "  'BsmtFinType2',\n",
       "  'Heating',\n",
       "  'HeatingQC',\n",
       "  'CentralAir',\n",
       "  'Electrical',\n",
       "  'KitchenQual',\n",
       "  'Functional',\n",
       "  'FireplaceQu',\n",
       "  'GarageType',\n",
       "  'GarageFinish',\n",
       "  'GarageQual',\n",
       "  'GarageCond',\n",
       "  'PavedDrive',\n",
       "  'PoolQC',\n",
       "  'Fence',\n",
       "  'MiscFeature',\n",
       "  'SaleType',\n",
       "  'SaleCondition'],\n",
       " ['Id',\n",
       "  'MSSubClass',\n",
       "  'LotFrontage',\n",
       "  'LotArea',\n",
       "  'OverallQual',\n",
       "  'OverallCond',\n",
       "  'YearBuilt',\n",
       "  'YearRemodAdd',\n",
       "  'MasVnrArea',\n",
       "  'BsmtFinSF1',\n",
       "  'BsmtFinSF2',\n",
       "  'BsmtUnfSF',\n",
       "  'TotalBsmtSF',\n",
       "  '1stFlrSF',\n",
       "  '2ndFlrSF',\n",
       "  'LowQualFinSF',\n",
       "  'GrLivArea',\n",
       "  'BsmtFullBath',\n",
       "  'BsmtHalfBath',\n",
       "  'FullBath',\n",
       "  'HalfBath',\n",
       "  'BedroomAbvGr',\n",
       "  'KitchenAbvGr',\n",
       "  'TotRmsAbvGrd',\n",
       "  'Fireplaces',\n",
       "  'GarageYrBlt',\n",
       "  'GarageCars',\n",
       "  'GarageArea',\n",
       "  'WoodDeckSF',\n",
       "  'OpenPorchSF',\n",
       "  'EnclosedPorch',\n",
       "  '3SsnPorch',\n",
       "  'ScreenPorch',\n",
       "  'PoolArea',\n",
       "  'MiscVal',\n",
       "  'MoSold',\n",
       "  'YrSold',\n",
       "  'SalePrice'])"
      ]
     },
     "execution_count": 10,
     "metadata": {},
     "output_type": "execute_result"
    }
   ],
   "source": [
    "catconsep(train)"
   ]
  },
  {
   "cell_type": "code",
   "execution_count": 11,
   "id": "6181f156",
   "metadata": {},
   "outputs": [
    {
     "data": {
      "text/html": [
       "<div>\n",
       "<style scoped>\n",
       "    .dataframe tbody tr th:only-of-type {\n",
       "        vertical-align: middle;\n",
       "    }\n",
       "\n",
       "    .dataframe tbody tr th {\n",
       "        vertical-align: top;\n",
       "    }\n",
       "\n",
       "    .dataframe thead th {\n",
       "        text-align: right;\n",
       "    }\n",
       "</style>\n",
       "<table border=\"1\" class=\"dataframe\">\n",
       "  <thead>\n",
       "    <tr style=\"text-align: right;\">\n",
       "      <th></th>\n",
       "      <th>SalePrice</th>\n",
       "    </tr>\n",
       "  </thead>\n",
       "  <tbody>\n",
       "    <tr>\n",
       "      <th>KitchenAbvGr</th>\n",
       "      <td>-0.135907</td>\n",
       "    </tr>\n",
       "    <tr>\n",
       "      <th>EnclosedPorch</th>\n",
       "      <td>-0.128578</td>\n",
       "    </tr>\n",
       "    <tr>\n",
       "      <th>MSSubClass</th>\n",
       "      <td>-0.084284</td>\n",
       "    </tr>\n",
       "    <tr>\n",
       "      <th>OverallCond</th>\n",
       "      <td>-0.077856</td>\n",
       "    </tr>\n",
       "    <tr>\n",
       "      <th>YrSold</th>\n",
       "      <td>-0.028923</td>\n",
       "    </tr>\n",
       "    <tr>\n",
       "      <th>LowQualFinSF</th>\n",
       "      <td>-0.025606</td>\n",
       "    </tr>\n",
       "    <tr>\n",
       "      <th>Id</th>\n",
       "      <td>-0.021917</td>\n",
       "    </tr>\n",
       "    <tr>\n",
       "      <th>MiscVal</th>\n",
       "      <td>-0.021190</td>\n",
       "    </tr>\n",
       "    <tr>\n",
       "      <th>BsmtHalfBath</th>\n",
       "      <td>-0.016844</td>\n",
       "    </tr>\n",
       "    <tr>\n",
       "      <th>BsmtFinSF2</th>\n",
       "      <td>-0.011378</td>\n",
       "    </tr>\n",
       "    <tr>\n",
       "      <th>3SsnPorch</th>\n",
       "      <td>0.044584</td>\n",
       "    </tr>\n",
       "    <tr>\n",
       "      <th>MoSold</th>\n",
       "      <td>0.046432</td>\n",
       "    </tr>\n",
       "    <tr>\n",
       "      <th>PoolArea</th>\n",
       "      <td>0.092404</td>\n",
       "    </tr>\n",
       "    <tr>\n",
       "      <th>ScreenPorch</th>\n",
       "      <td>0.111447</td>\n",
       "    </tr>\n",
       "    <tr>\n",
       "      <th>BedroomAbvGr</th>\n",
       "      <td>0.168213</td>\n",
       "    </tr>\n",
       "    <tr>\n",
       "      <th>BsmtUnfSF</th>\n",
       "      <td>0.214479</td>\n",
       "    </tr>\n",
       "    <tr>\n",
       "      <th>BsmtFullBath</th>\n",
       "      <td>0.227122</td>\n",
       "    </tr>\n",
       "    <tr>\n",
       "      <th>LotArea</th>\n",
       "      <td>0.263843</td>\n",
       "    </tr>\n",
       "    <tr>\n",
       "      <th>HalfBath</th>\n",
       "      <td>0.284108</td>\n",
       "    </tr>\n",
       "    <tr>\n",
       "      <th>OpenPorchSF</th>\n",
       "      <td>0.315856</td>\n",
       "    </tr>\n",
       "    <tr>\n",
       "      <th>2ndFlrSF</th>\n",
       "      <td>0.319334</td>\n",
       "    </tr>\n",
       "    <tr>\n",
       "      <th>WoodDeckSF</th>\n",
       "      <td>0.324413</td>\n",
       "    </tr>\n",
       "    <tr>\n",
       "      <th>LotFrontage</th>\n",
       "      <td>0.334901</td>\n",
       "    </tr>\n",
       "    <tr>\n",
       "      <th>BsmtFinSF1</th>\n",
       "      <td>0.386420</td>\n",
       "    </tr>\n",
       "    <tr>\n",
       "      <th>Fireplaces</th>\n",
       "      <td>0.466929</td>\n",
       "    </tr>\n",
       "    <tr>\n",
       "      <th>GarageYrBlt</th>\n",
       "      <td>0.470177</td>\n",
       "    </tr>\n",
       "    <tr>\n",
       "      <th>MasVnrArea</th>\n",
       "      <td>0.475241</td>\n",
       "    </tr>\n",
       "    <tr>\n",
       "      <th>YearRemodAdd</th>\n",
       "      <td>0.507101</td>\n",
       "    </tr>\n",
       "    <tr>\n",
       "      <th>YearBuilt</th>\n",
       "      <td>0.522897</td>\n",
       "    </tr>\n",
       "    <tr>\n",
       "      <th>TotRmsAbvGrd</th>\n",
       "      <td>0.533723</td>\n",
       "    </tr>\n",
       "    <tr>\n",
       "      <th>FullBath</th>\n",
       "      <td>0.560664</td>\n",
       "    </tr>\n",
       "    <tr>\n",
       "      <th>1stFlrSF</th>\n",
       "      <td>0.605852</td>\n",
       "    </tr>\n",
       "    <tr>\n",
       "      <th>TotalBsmtSF</th>\n",
       "      <td>0.613581</td>\n",
       "    </tr>\n",
       "    <tr>\n",
       "      <th>GarageArea</th>\n",
       "      <td>0.623431</td>\n",
       "    </tr>\n",
       "    <tr>\n",
       "      <th>GarageCars</th>\n",
       "      <td>0.640409</td>\n",
       "    </tr>\n",
       "    <tr>\n",
       "      <th>GrLivArea</th>\n",
       "      <td>0.708624</td>\n",
       "    </tr>\n",
       "    <tr>\n",
       "      <th>OverallQual</th>\n",
       "      <td>0.790982</td>\n",
       "    </tr>\n",
       "    <tr>\n",
       "      <th>SalePrice</th>\n",
       "      <td>1.000000</td>\n",
       "    </tr>\n",
       "  </tbody>\n",
       "</table>\n",
       "</div>"
      ],
      "text/plain": [
       "               SalePrice\n",
       "KitchenAbvGr   -0.135907\n",
       "EnclosedPorch  -0.128578\n",
       "MSSubClass     -0.084284\n",
       "OverallCond    -0.077856\n",
       "YrSold         -0.028923\n",
       "LowQualFinSF   -0.025606\n",
       "Id             -0.021917\n",
       "MiscVal        -0.021190\n",
       "BsmtHalfBath   -0.016844\n",
       "BsmtFinSF2     -0.011378\n",
       "3SsnPorch       0.044584\n",
       "MoSold          0.046432\n",
       "PoolArea        0.092404\n",
       "ScreenPorch     0.111447\n",
       "BedroomAbvGr    0.168213\n",
       "BsmtUnfSF       0.214479\n",
       "BsmtFullBath    0.227122\n",
       "LotArea         0.263843\n",
       "HalfBath        0.284108\n",
       "OpenPorchSF     0.315856\n",
       "2ndFlrSF        0.319334\n",
       "WoodDeckSF      0.324413\n",
       "LotFrontage     0.334901\n",
       "BsmtFinSF1      0.386420\n",
       "Fireplaces      0.466929\n",
       "GarageYrBlt     0.470177\n",
       "MasVnrArea      0.475241\n",
       "YearRemodAdd    0.507101\n",
       "YearBuilt       0.522897\n",
       "TotRmsAbvGrd    0.533723\n",
       "FullBath        0.560664\n",
       "1stFlrSF        0.605852\n",
       "TotalBsmtSF     0.613581\n",
       "GarageArea      0.623431\n",
       "GarageCars      0.640409\n",
       "GrLivArea       0.708624\n",
       "OverallQual     0.790982\n",
       "SalePrice       1.000000"
      ]
     },
     "execution_count": 11,
     "metadata": {},
     "output_type": "execute_result"
    }
   ],
   "source": [
    "train.corr()[[\"SalePrice\"]].sort_values('SalePrice')"
   ]
  },
  {
   "cell_type": "markdown",
   "id": "41956817",
   "metadata": {},
   "source": [
    "### Define X and Y"
   ]
  },
  {
   "cell_type": "code",
   "execution_count": 12,
   "id": "b8699e96",
   "metadata": {},
   "outputs": [],
   "source": [
    "Y = train[[\"SalePrice\"]]\n",
    "X = train.drop(labels=[\"Id\",\"SalePrice\"],axis=1)"
   ]
  },
  {
   "cell_type": "code",
   "execution_count": 13,
   "id": "5ac423a4",
   "metadata": {},
   "outputs": [
    {
     "data": {
      "text/plain": [
       "MSSubClass       0\n",
       "MSZoning         0\n",
       "LotFrontage      0\n",
       "LotArea          0\n",
       "Street           0\n",
       "                ..\n",
       "MiscVal          0\n",
       "MoSold           0\n",
       "YrSold           0\n",
       "SaleType         0\n",
       "SaleCondition    0\n",
       "Length: 79, dtype: int64"
      ]
     },
     "execution_count": 13,
     "metadata": {},
     "output_type": "execute_result"
    }
   ],
   "source": [
    "X.isna().sum()"
   ]
  },
  {
   "cell_type": "markdown",
   "id": "8f3a922f",
   "metadata": {},
   "source": [
    "### Remove outliers"
   ]
  },
  {
   "cell_type": "code",
   "execution_count": 14,
   "id": "73653939",
   "metadata": {},
   "outputs": [],
   "source": [
    "X1 = standardize(X)\n",
    "OL = outliers(X1)"
   ]
  },
  {
   "cell_type": "code",
   "execution_count": 15,
   "id": "7e648a2a",
   "metadata": {},
   "outputs": [],
   "source": [
    "X = X.drop(index=OL,axis=0)\n",
    "Y = Y.drop(index=OL,axis=0)"
   ]
  },
  {
   "cell_type": "code",
   "execution_count": 16,
   "id": "f1fe4533",
   "metadata": {},
   "outputs": [
    {
     "data": {
      "text/plain": [
       "(1021, 79)"
      ]
     },
     "execution_count": 16,
     "metadata": {},
     "output_type": "execute_result"
    }
   ],
   "source": [
    "X.shape"
   ]
  },
  {
   "cell_type": "code",
   "execution_count": 17,
   "id": "3dfc570d",
   "metadata": {},
   "outputs": [],
   "source": [
    "X.index = range(0,1021,1)\n",
    "Y.index = range(0,1021,1)"
   ]
  },
  {
   "cell_type": "code",
   "execution_count": 18,
   "id": "f3cd5bfe",
   "metadata": {},
   "outputs": [],
   "source": [
    "Xnew = preprocessing(X)"
   ]
  },
  {
   "cell_type": "markdown",
   "id": "78717c81",
   "metadata": {},
   "source": [
    "### Splitting data into training and testing set"
   ]
  },
  {
   "cell_type": "code",
   "execution_count": 19,
   "id": "0d7546b5",
   "metadata": {},
   "outputs": [],
   "source": [
    "from sklearn.model_selection import train_test_split\n",
    "xtrain,xtest,ytrain,ytest = train_test_split(Xnew,Y,test_size=0.2,random_state=21)"
   ]
  },
  {
   "cell_type": "markdown",
   "id": "6e74d899",
   "metadata": {},
   "source": [
    "### Backward elimination OLS model"
   ]
  },
  {
   "cell_type": "code",
   "execution_count": 35,
   "id": "e7df9e1e",
   "metadata": {},
   "outputs": [
    {
     "name": "stdout",
     "output_type": "stream",
     "text": [
      "Dropped: column: BsmtFinType2_No Basement \tRsquared: 0.941\n",
      "Dropped: column: BsmtQual_No Basement \tRsquared: 0.941\n",
      "Dropped: column: KitchenQual_Gd \tRsquared: 0.9411\n",
      "Dropped: column: HouseStyle_2.5Unf \tRsquared: 0.9411\n",
      "Dropped: column: FireplaceQu_Fa \tRsquared: 0.9411\n",
      "Dropped: column: ScreenPorch \tRsquared: 0.941\n",
      "Dropped: column: GarageCars \tRsquared: 0.941\n",
      "Dropped: column: GarageCond_No Garage \tRsquared: 0.941\n",
      "Dropped: column: GarageType_No Garage \tRsquared: 0.941\n",
      "Dropped: column: GarageFinish_No Garage \tRsquared: 0.941\n"
     ]
    }
   ],
   "source": [
    "from warnings import filterwarnings\n",
    "filterwarnings(\"ignore\")\n",
    "\n",
    "for i in range(0,10):\n",
    "    from statsmodels.api import OLS,add_constant\n",
    "    xconst = add_constant(xtrain)\n",
    "    ol = OLS(ytrain,xconst)\n",
    "    model = ol.fit()\n",
    "    rsq = model.rsquared_adj\n",
    "    col_to_drop = model.pvalues.sort_values().index[-1]\n",
    "    print(\"Dropped: column:\",col_to_drop,\"\\tRsquared:\",round(rsq,4))\n",
    "    Xnew = Xnew.drop(labels=col_to_drop,axis=1)\n",
    "    xtrain,xtest,ytrain,ytest=train_test_split(Xnew,Y,test_size=0.2,random_state=21)\n",
    "    xconst = add_constant(xtrain)\n",
    "    ol = OLS(ytrain,xconst)\n",
    "    model = ol.fit()\n",
    "    rsq = model.rsquared_adj"
   ]
  },
  {
   "cell_type": "markdown",
   "id": "288a916e",
   "metadata": {},
   "source": [
    "### Linear Regression model on selected features"
   ]
  },
  {
   "cell_type": "code",
   "execution_count": 36,
   "id": "0eaf2b00",
   "metadata": {},
   "outputs": [],
   "source": [
    "from sklearn.linear_model import LinearRegression\n",
    "lm = LinearRegression()\n",
    "\n",
    "def linear_model(obj):\n",
    "    model = obj.fit(xtrain,ytrain)\n",
    "    \n",
    "    tr_pred = model.predict(xtrain)\n",
    "    ts_pred = model.predict(xtest)\n",
    "    from sklearn.metrics import mean_absolute_error\n",
    "    tr_error = mean_absolute_error(ytrain,tr_pred)\n",
    "    ts_error = mean_absolute_error(ytest,ts_pred)\n",
    "    return round(tr_error,4), round(ts_error,4)"
   ]
  },
  {
   "cell_type": "code",
   "execution_count": 37,
   "id": "2dbb5352",
   "metadata": {},
   "outputs": [
    {
     "data": {
      "text/plain": [
       "(11442.3407, 226836645071689.22)"
      ]
     },
     "execution_count": 37,
     "metadata": {},
     "output_type": "execute_result"
    }
   ],
   "source": [
    "linear_model(lm)"
   ]
  },
  {
   "cell_type": "markdown",
   "id": "fce4c138",
   "metadata": {},
   "source": [
    "### Regularization"
   ]
  },
  {
   "cell_type": "code",
   "execution_count": 38,
   "id": "8d0952b9",
   "metadata": {},
   "outputs": [],
   "source": [
    "tg = []\n",
    "x = 0\n",
    "for i in range(0,1000,1):\n",
    "    x = x+0.01\n",
    "    x = round(x,4)\n",
    "    tg.append(i)"
   ]
  },
  {
   "cell_type": "code",
   "execution_count": 39,
   "id": "bdeff79b",
   "metadata": {},
   "outputs": [],
   "source": [
    "lambda_to_try = {\"alpha\":tg}"
   ]
  },
  {
   "cell_type": "code",
   "execution_count": 40,
   "id": "a073f0e1",
   "metadata": {},
   "outputs": [
    {
     "data": {
      "text/plain": [
       "{'alpha': 2}"
      ]
     },
     "execution_count": 40,
     "metadata": {},
     "output_type": "execute_result"
    }
   ],
   "source": [
    "from sklearn.linear_model import Ridge\n",
    "from sklearn.model_selection import GridSearchCV\n",
    "cv = GridSearchCV(Ridge(),lambda_to_try,scoring=\"neg_mean_squared_error\",cv=4)\n",
    "cvmodel = cv.fit(Xnew,Y)\n",
    "cvmodel.best_params_"
   ]
  },
  {
   "cell_type": "code",
   "execution_count": 41,
   "id": "6904a204",
   "metadata": {},
   "outputs": [
    {
     "data": {
      "text/plain": [
       "(10972.3871, 13030.1914)"
      ]
     },
     "execution_count": 41,
     "metadata": {},
     "output_type": "execute_result"
    }
   ],
   "source": [
    "rr = Ridge(alpha=2)\n",
    "linear_model(rr)"
   ]
  },
  {
   "cell_type": "markdown",
   "id": "8390e038",
   "metadata": {},
   "source": [
    "### Predictions on test data"
   ]
  },
  {
   "cell_type": "code",
   "execution_count": 42,
   "id": "5faa085b",
   "metadata": {},
   "outputs": [],
   "source": [
    "xtest = test.drop(labels=\"Id\",axis=1)\n",
    "xtest_new = preprocessing(xtest)"
   ]
  },
  {
   "cell_type": "code",
   "execution_count": 43,
   "id": "1368d30d",
   "metadata": {},
   "outputs": [],
   "source": [
    "xtest_new['Exterior2nd_Other']=0\n",
    "xtest_new['Condition2_RRNn']=0\n",
    "xtest_new['GarageQual_Ex']=0\n",
    "xtest_new['Heating_Floor']=0\n",
    "xtest_new['Exterior1st_ImStucc']=0"
   ]
  },
  {
   "cell_type": "code",
   "execution_count": 44,
   "id": "a2267606",
   "metadata": {},
   "outputs": [],
   "source": [
    "final_data_for_pred = xtest_new[list(xtrain.columns)]"
   ]
  },
  {
   "cell_type": "code",
   "execution_count": 45,
   "id": "8304f144",
   "metadata": {},
   "outputs": [],
   "source": [
    "pred = model.predict(final_data_for_pred)"
   ]
  },
  {
   "cell_type": "code",
   "execution_count": 46,
   "id": "1d122cd4",
   "metadata": {},
   "outputs": [],
   "source": [
    "Q = test[[\"Id\"]]"
   ]
  },
  {
   "cell_type": "code",
   "execution_count": 47,
   "id": "fcd2fd9f",
   "metadata": {},
   "outputs": [],
   "source": [
    "Q['SalePrice']=pred"
   ]
  },
  {
   "cell_type": "code",
   "execution_count": 48,
   "id": "b284ed41",
   "metadata": {},
   "outputs": [],
   "source": [
    "Q.to_csv(\"C:/Users/HP/Desktop/ETLHive/Project1/output.csv\",index=False)"
   ]
  },
  {
   "cell_type": "code",
   "execution_count": null,
   "id": "38767407",
   "metadata": {},
   "outputs": [],
   "source": []
  }
 ],
 "metadata": {
  "kernelspec": {
   "display_name": "Python 3 (ipykernel)",
   "language": "python",
   "name": "python3"
  },
  "language_info": {
   "codemirror_mode": {
    "name": "ipython",
    "version": 3
   },
   "file_extension": ".py",
   "mimetype": "text/x-python",
   "name": "python",
   "nbconvert_exporter": "python",
   "pygments_lexer": "ipython3",
   "version": "3.9.7"
  }
 },
 "nbformat": 4,
 "nbformat_minor": 5
}
